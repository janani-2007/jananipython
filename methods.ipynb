{
 "cells": [
  {
   "cell_type": "code",
   "execution_count": 42,
   "metadata": {},
   "outputs": [],
   "source": [
    "#parent class or primary class\n",
    "class AmazonAccount:\n",
    "\n",
    "    #private Members | private properties | class Variables\n",
    "    __default_delivery = 7\n",
    "    \n",
    "    #public members | public property | class variety\n",
    "    welcomeMessage = 'Welcome to Amazon Account'\n",
    "\n",
    "    #constructor\n",
    "    def __int__(self,name, mobile, email):...\n",
    "\n",
    "    #methods | member functions\n",
    "    def shopping(self,item):\n",
    "        print(f'{self.name} bought {item}')\n",
    "\n",
    "    def delivery(self):\n",
    "        print(f'Your order will be deliverd in {self.__default_delivery}')\n",
    "\n",
    "    def __deactivate_account(self):\n",
    "        print(f'{self.name}account deactivate successfully')\n",
    "    \n",
    "              \n",
    "\n",
    "\n",
    "\n",
    "\n",
    "\n",
    "\n",
    "        "
   ]
  },
  {
   "cell_type": "code",
   "execution_count": 43,
   "metadata": {},
   "outputs": [],
   "source": [
    "#calling instance method\n",
    "janani = ('janani',8754686046, 'janani4679@gmail.com')"
   ]
  },
  {
   "cell_type": "code",
   "execution_count": 44,
   "metadata": {},
   "outputs": [
    {
     "ename": "AttributeError",
     "evalue": "'tuple' object has no attribute '__deactivate_account'",
     "output_type": "error",
     "traceback": [
      "\u001b[0;31m---------------------------------------------------------------------------\u001b[0m",
      "\u001b[0;31mAttributeError\u001b[0m                            Traceback (most recent call last)",
      "Cell \u001b[0;32mIn[44], line 1\u001b[0m\n\u001b[0;32m----> 1\u001b[0m \u001b[43mjanani\u001b[49m\u001b[38;5;241;43m.\u001b[39;49m\u001b[43m__deactivate_account\u001b[49m()\n",
      "\u001b[0;31mAttributeError\u001b[0m: 'tuple' object has no attribute '__deactivate_account'"
     ]
    }
   ],
   "source": [
    "janani.__deactivate_account()"
   ]
  },
  {
   "cell_type": "code",
   "execution_count": null,
   "metadata": {},
   "outputs": [],
   "source": []
  }
 ],
 "metadata": {
  "kernelspec": {
   "display_name": "Python 3",
   "language": "python",
   "name": "python3"
  },
  "language_info": {
   "codemirror_mode": {
    "name": "ipython",
    "version": 3
   },
   "file_extension": ".py",
   "mimetype": "text/x-python",
   "name": "python",
   "nbconvert_exporter": "python",
   "pygments_lexer": "ipython3",
   "version": "3.10.12"
  }
 },
 "nbformat": 4,
 "nbformat_minor": 2
}
