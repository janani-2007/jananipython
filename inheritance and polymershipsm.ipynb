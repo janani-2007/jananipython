{
 "cells": [
  {
   "cell_type": "code",
   "execution_count": 35,
   "metadata": {},
   "outputs": [],
   "source": [
    "#parent key or primary key\n",
    "class Standard_Account:\n",
    "\n",
    "    #Private members or Private Properties or class Variables\n",
    "    __default_delivery = 7\n",
    "    \n",
    "    #Public Members or Public Property or class Variables\n",
    "    welcomeMessage = 'Welcome to Aatomz Account'\n",
    "\n",
    "    def __init__(self, name, mobile, email):\n",
    "        self.name = name\n",
    "        self.mobile = mobile\n",
    "        self.email = email\n",
    "        print(self.welcomeMessage)\n",
    "\n",
    "    def shopping(self,item):\n",
    "        print(f'{self.name} bought {item}')\n",
    "\n",
    "    def delivery(self):\n",
    "        print(f'Your order will be delivered in {self._default_delivery}')\n",
    "\n",
    "    def deactivate_account(self):\n",
    "        print(f'{self.name} account deactivate successfully')"
   ]
  },
  {
   "cell_type": "code",
   "execution_count": 36,
   "metadata": {},
   "outputs": [],
   "source": [
    "#child class or secondary class or derived class\n",
    "class premimum_account(Standard_Account):\n",
    "    #Welcome message act as different forms - polymephism\n",
    "    welcomeMessage = 'Welcome to Aatomz **Prime** Account'\n",
    "\n",
    "    #Function Overriding - polymerphism Implementation\n",
    "    # same function name in parent and child class\n",
    "    def delivery(self):\n",
    "        premimum_standard = 1\n",
    "        print(f''' Your order will be delivered\n",
    "              in {premimum_delivery} days''')\n",
    "        \n",
    "    def prime_video(self):\n",
    "        print('Prime Video Membership enabled')\n",
    "\n",
    "    def cancel_membership(self):\n",
    "        print(f'{self.name} Sucessfully cancelled the membership')\n",
    "        "
   ]
  },
  {
   "cell_type": "code",
   "execution_count": 37,
   "metadata": {},
   "outputs": [
    {
     "name": "stdout",
     "output_type": "stream",
     "text": [
      "Welcome to Aatomz Account\n"
     ]
    },
    {
     "data": {
      "text/plain": [
       "'janani'"
      ]
     },
     "execution_count": 37,
     "metadata": {},
     "output_type": "execute_result"
    }
   ],
   "source": [
    "#object utilizing the parent class\n",
    "#creating the Standard class\n",
    "myAccount = Standard_Account('janani', '8754696046',\n",
    "                             'janani4679@gmail.com')\n",
    "\n",
    "# Data members\n",
    "myAccount.name\n"
   ]
  },
  {
   "cell_type": "code",
   "execution_count": 41,
   "metadata": {},
   "outputs": [
    {
     "name": "stdout",
     "output_type": "stream",
     "text": [
      "janani bought iphone\n",
      "janani account deactivate successfully\n"
     ]
    }
   ],
   "source": [
    "# calling class methods\n",
    "myAccount.shopping('iphone')\n",
    "myAccount.deactivate_account()"
   ]
  },
  {
   "cell_type": "code",
   "execution_count": 45,
   "metadata": {},
   "outputs": [
    {
     "name": "stdout",
     "output_type": "stream",
     "text": [
      "Welcome to Aatomz **Prime** Account\n"
     ]
    },
    {
     "data": {
      "text/plain": [
       "'janani'"
      ]
     },
     "execution_count": 45,
     "metadata": {},
     "output_type": "execute_result"
    }
   ],
   "source": [
    "#object inheritng the parent class\n",
    "# Creating the premimum Account - Derived from standard account\n",
    "myPremimumAccount = premimum_account('janani', '8754696046',\n",
    "                             'janani4679@gmail.com')\n",
    "\n",
    "# Data members\n",
    "myPremimumAccount.name"
   ]
  },
  {
   "cell_type": "code",
   "execution_count": 50,
   "metadata": {},
   "outputs": [
    {
     "name": "stdout",
     "output_type": "stream",
     "text": [
      "janani bought iphone\n"
     ]
    }
   ],
   "source": [
    "# calling parent class Function\n",
    "myPremimumAccount.shopping('iphone')"
   ]
  },
  {
   "cell_type": "code",
   "execution_count": 51,
   "metadata": {},
   "outputs": [
    {
     "name": "stdout",
     "output_type": "stream",
     "text": [
      "Prime Video Membership enabled\n"
     ]
    }
   ],
   "source": [
    "#object utilizing the child class functons\n",
    "# calling child class functions\n",
    "myPremimumAccount.prime_video()\n"
   ]
  },
  {
   "cell_type": "code",
   "execution_count": 52,
   "metadata": {},
   "outputs": [
    {
     "name": "stdout",
     "output_type": "stream",
     "text": [
      "janani account deactivate successfully\n"
     ]
    }
   ],
   "source": [
    "myPremimumAccount.deactivate_account()"
   ]
  },
  {
   "cell_type": "code",
   "execution_count": 54,
   "metadata": {},
   "outputs": [
    {
     "name": "stdout",
     "output_type": "stream",
     "text": [
      "janani Sucessfully cancelled the membership\n"
     ]
    }
   ],
   "source": [
    "myPremimumAccount.cancel_membership()"
   ]
  },
  {
   "cell_type": "code",
   "execution_count": null,
   "metadata": {},
   "outputs": [],
   "source": []
  }
 ],
 "metadata": {
  "kernelspec": {
   "display_name": "Python 3",
   "language": "python",
   "name": "python3"
  },
  "language_info": {
   "codemirror_mode": {
    "name": "ipython",
    "version": 3
   },
   "file_extension": ".py",
   "mimetype": "text/x-python",
   "name": "python",
   "nbconvert_exporter": "python",
   "pygments_lexer": "ipython3",
   "version": "3.10.12"
  }
 },
 "nbformat": 4,
 "nbformat_minor": 2
}
