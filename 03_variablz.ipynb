{
 "cells": [
  {
   "cell_type": "code",
   "execution_count": 1,
   "metadata": {},
   "outputs": [
    {
     "data": {
      "text/plain": [
       "'hi'"
      ]
     },
     "execution_count": 1,
     "metadata": {},
     "output_type": "execute_result"
    }
   ],
   "source": [
    "'hi'"
   ]
  },
  {
   "cell_type": "code",
   "execution_count": null,
   "metadata": {},
   "outputs": [],
   "source": []
  },
  {
   "cell_type": "code",
   "execution_count": null,
   "metadata": {},
   "outputs": [],
   "source": []
  },
  {
   "cell_type": "code",
   "execution_count": null,
   "metadata": {},
   "outputs": [],
   "source": []
  },
  {
   "cell_type": "code",
   "execution_count": null,
   "metadata": {},
   "outputs": [],
   "source": []
  },
  {
   "cell_type": "code",
   "execution_count": null,
   "metadata": {},
   "outputs": [],
   "source": []
  },
  {
   "cell_type": "code",
   "execution_count": null,
   "metadata": {},
   "outputs": [],
   "source": []
  },
  {
   "cell_type": "code",
   "execution_count": null,
   "metadata": {},
   "outputs": [],
   "source": []
  },
  {
   "cell_type": "code",
   "execution_count": null,
   "metadata": {},
   "outputs": [],
   "source": []
  },
  {
   "cell_type": "code",
   "execution_count": null,
   "metadata": {},
   "outputs": [],
   "source": []
  },
  {
   "cell_type": "code",
   "execution_count": null,
   "metadata": {},
   "outputs": [],
   "source": []
  },
  {
   "cell_type": "code",
   "execution_count": 3,
   "metadata": {},
   "outputs": [
    {
     "data": {
      "text/plain": [
       "['Mr. Anirudh', 'Mr. Ilayaraja', 'Mr. Yuvan', 'Mr. Deva']"
      ]
     },
     "execution_count": 3,
     "metadata": {},
     "output_type": "execute_result"
    }
   ],
   "source": [
    "#automated way\n",
    "music_director= ['Anirudh','Ilayaraja','Yuvan','Deva']\n",
    "music_director\n",
    "\n",
    "updated_list = []\n",
    "count = 0\n",
    "while count<len(music_director):\n",
    "\n",
    "    updated_list.append(f'Mr. {music_director[count]}')\n",
    "\n",
    "    count +=1\n",
    "\n",
    "updated_list"
   ]
  },
  {
   "cell_type": "code",
   "execution_count": 1,
   "metadata": {},
   "outputs": [
    {
     "data": {
      "text/plain": [
       "[236.0, 892.0799999999999, 76.7]"
      ]
     },
     "execution_count": 1,
     "metadata": {},
     "output_type": "execute_result"
    }
   ],
   "source": [
    "#gst tax calculation\n",
    "price = [200,756,65]\n",
    "price\n",
    "\n",
    "total_prices = []\n",
    "\n",
    "count = 0\n",
    "\n",
    "while count<len(price):\n",
    "     \n",
    "    tax = price[count] * (18/100)\n",
    "    total = price[count] + tax\n",
    "    total_prices.append(total)\n",
    "\n",
    "    count +=1\n",
    "\n",
    "total_prices\n"
   ]
  },
  {
   "cell_type": "code",
   "execution_count": 2,
   "metadata": {},
   "outputs": [
    {
     "data": {
      "text/plain": [
       "[200, 756, 65]"
      ]
     },
     "execution_count": 2,
     "metadata": {},
     "output_type": "execute_result"
    }
   ],
   "source": [
    "price=[200,756,65]\n",
    "price\n",
    "total_price = []\n",
    "\n",
    "count = 0\n",
    "\n",
    "while count<len(price):\n",
    "\n",
    "    tax = price[count] * (18/100)\n",
    "    total = price[count] + tax\n",
    "    total_price.append(total)\n",
    "\n",
    "    print(f'Printing Process {count}')\n",
    "\n",
    "total_prices"
   ]
  },
  {
   "cell_type": "code",
   "execution_count": 2,
   "metadata": {},
   "outputs": [
    {
     "name": "stdout",
     "output_type": "stream",
     "text": [
      "cokes\n",
      "pepsi\n",
      "sprite\n",
      "fanta\n",
      "miranda\n"
     ]
    }
   ],
   "source": [
    "beverages=['cokes','pepsi','sprite','fanta','miranda']\n",
    "beverages \n",
    "for beverages in beverages:\n",
    "    print(beverages)"
   ]
  },
  {
   "cell_type": "code",
   "execution_count": 3,
   "metadata": {},
   "outputs": [
    {
     "name": "stdout",
     "output_type": "stream",
     "text": [
      "M\n",
      "y\n",
      " \n",
      "N\n",
      "a\n",
      "m\n",
      "e\n",
      " \n",
      "i\n",
      "s\n",
      " \n",
      "S\n",
      "i\n",
      "l\n",
      "l\n",
      "a\n",
      "!\n"
     ]
    }
   ],
   "source": [
    "#interate string\n",
    "Sentence = 'My Name is Silla!'\n",
    "for item in Sentence:\n",
    "    print(item)"
   ]
  },
  {
   "cell_type": "code",
   "execution_count": 7,
   "metadata": {},
   "outputs": [
    {
     "name": "stdout",
     "output_type": "stream",
     "text": [
      "0\n",
      "1\n",
      "2\n",
      "3\n",
      "4\n"
     ]
    }
   ],
   "source": [
    "#range\n",
    "#stop Number\n",
    "numbers = range(5)\n",
    "numbers \n",
    "for number in numbers:\n",
    "    print(number)\n",
    "  "
   ]
  },
  {
   "cell_type": "code",
   "execution_count": 13,
   "metadata": {},
   "outputs": [
    {
     "name": "stdout",
     "output_type": "stream",
     "text": [
      "6\n",
      "7\n",
      "8\n",
      "9\n",
      "10\n",
      "11\n",
      "12\n",
      "13\n",
      "14\n",
      "15\n"
     ]
    }
   ],
   "source": [
    "#range\n",
    "#start Number\n",
    "numbers = range(6,16)\n",
    "numbers \n",
    "for number in numbers:\n",
    "    print(number)\n"
   ]
  },
  {
   "cell_type": "code",
   "execution_count": 17,
   "metadata": {},
   "outputs": [
    {
     "data": {
      "text/plain": [
       "(1, 10, 3)"
      ]
     },
     "execution_count": 17,
     "metadata": {},
     "output_type": "execute_result"
    }
   ],
   "source": [
    "#range\n",
    "#stop range\n",
    "numbers = (1,10,3)\n",
    "numbers \n"
   ]
  },
  {
   "cell_type": "code",
   "execution_count": 16,
   "metadata": {},
   "outputs": [
    {
     "name": "stdout",
     "output_type": "stream",
     "text": [
      "1\n",
      "10\n",
      "3\n"
     ]
    }
   ],
   "source": [
    "for number in numbers:\n",
    "    print(number)"
   ]
  },
  {
   "cell_type": "code",
   "execution_count": 23,
   "metadata": {},
   "outputs": [],
   "source": [
    "#range\n",
    "#nested loop\n",
    "shopping_cart1 = ['Charger','Iphone','Pencil','Notebook']\n",
    "shopping_cart2 = ['Headphone','5.1 Speaker','Carrom board']\n",
    "shopping_cart3 = ['Shirt','Pant','Guitar','Tablemart']\n",
    "shopping_carts = [shopping_cart1,shopping_cart2,shopping_cart3]\n",
    "\n"
   ]
  },
  {
   "cell_type": "code",
   "execution_count": 22,
   "metadata": {},
   "outputs": [
    {
     "name": "stdout",
     "output_type": "stream",
     "text": [
      "Charger\n",
      "Iphone\n",
      "Pencil\n",
      "Notebook\n",
      "Headphone\n",
      "5.1 Speaker\n",
      "Carrom board\n",
      "Shirt\n",
      "Pant\n",
      "Guitar\n",
      "Tablemart\n"
     ]
    }
   ],
   "source": [
    "i = 0\n",
    "while i<len(shopping_carts):\n",
    "    j = 0\n",
    "    while j<len(shopping_carts[i]):\n",
    "        print(shopping_carts[i][j])\n",
    "        j+=1\n",
    "    i+=1"
   ]
  },
  {
   "cell_type": "code",
   "execution_count": 28,
   "metadata": {},
   "outputs": [
    {
     "name": "stdout",
     "output_type": "stream",
     "text": [
      "Charger\n",
      "Iphone\n",
      "Pencil\n",
      "Notebook\n",
      "Headphone\n",
      "5.1 Speaker\n",
      "Carrom board\n",
      "Shirt\n",
      "Pant\n",
      "Guitar\n",
      "Tablemart\n"
     ]
    }
   ],
   "source": [
    "shopping_cart1 = ['Charger','Iphone','Pencil','Notebook']\n",
    "shopping_cart2 = ['Headphone','5.1 Speaker','Carrom board']\n",
    "shopping_cart3 = ['Shirt','Pant','Guitar','Tablemart']\n",
    "shopping_carts = [shopping_cart1,shopping_cart2,shopping_cart3]\n",
    "\n",
    "for items in shopping_carts:\n",
    "    for item in items:\n",
    "        print(item)"
   ]
  },
  {
   "cell_type": "code",
   "execution_count": 30,
   "metadata": {},
   "outputs": [
    {
     "name": "stdout",
     "output_type": "stream",
     "text": [
      "pepsi\n",
      "pepsi s available\n"
     ]
    }
   ],
   "source": [
    "#while break\n",
    "beverages = ['pepsi','coke','miranda','apple']\n",
    "beverages \n",
    "count = 0\n",
    "while count<len(beverages):\n",
    "    print(beverages[count])\n",
    "    if beverages[count] == 'pepsi':\n",
    "        print('pepsi s available')\n",
    "        break\n",
    "    count+=1\n"
   ]
  },
  {
   "cell_type": "code",
   "execution_count": 32,
   "metadata": {},
   "outputs": [
    {
     "name": "stdout",
     "output_type": "stream",
     "text": [
      "pepsi\n",
      "coke\n",
      "coke is available\n"
     ]
    }
   ],
   "source": [
    "beverages = ['pepsi','coke','miranda','apple']\n",
    "beverages \n",
    "for beverage in beverages:\n",
    "    print(beverage)\n",
    "    if beverage == 'coke':\n",
    "        print('coke is available')\n",
    "        break\n"
   ]
  },
  {
   "cell_type": "code",
   "execution_count": 35,
   "metadata": {},
   "outputs": [
    {
     "name": "stdout",
     "output_type": "stream",
     "text": [
      "buy coke\n",
      "buy miranda\n",
      "buy apple\n"
     ]
    }
   ],
   "source": [
    "#continue loops\n",
    "#continue in while\n",
    "beverages = ['pepsi','coke','miranda','apple']\n",
    "beverages \n",
    "count = 0\n",
    "while count<len(beverages):\n",
    "    if beverages [count] == 'pepsi':\n",
    "        count+=1\n",
    "        continue\n",
    "    \n",
    "    print(f'buy {beverages[count]}')\n",
    "    count+= 1"
   ]
  },
  {
   "cell_type": "code",
   "execution_count": 37,
   "metadata": {},
   "outputs": [
    {
     "name": "stdout",
     "output_type": "stream",
     "text": [
      "buypepsi\n",
      "buycoke\n",
      "buyapple\n"
     ]
    }
   ],
   "source": [
    "#continue in for\n",
    "beverages = ['pepsi','coke','miranda','apple']\n",
    "beverages \n",
    "for beverage in beverages:\n",
    "    if beverage == 'miranda':\n",
    "        continue\n",
    "\n",
    "    print(f'buy{beverage}')"
   ]
  },
  {
   "cell_type": "code",
   "execution_count": 39,
   "metadata": {},
   "outputs": [
    {
     "name": "stdout",
     "output_type": "stream",
     "text": [
      "Book not available\n"
     ]
    }
   ],
   "source": [
    "#else inside loops\n",
    "#else in while\n",
    "books = ['tamil','english','maths']\n",
    "books\n",
    "count = 0\n",
    "while count<len(books):\n",
    "    if books[count] =='marathi':\n",
    "        print('marathi book found')\n",
    "    count+=1\n",
    "else:\n",
    "    print('Book not available')"
   ]
  },
  {
   "cell_type": "code",
   "execution_count": 42,
   "metadata": {},
   "outputs": [
    {
     "name": "stdout",
     "output_type": "stream",
     "text": [
      "book not available\n"
     ]
    }
   ],
   "source": [
    "#else in for\n",
    "books = ['tamil','english','maths']\n",
    "\n",
    "for book in books:\n",
    "    if book == 'marathi':\n",
    "        print('marathi book available')\n",
    "else:\n",
    "    print('book not available')\n",
    "\n",
    "\n"
   ]
  },
  {
   "cell_type": "code",
   "execution_count": 1,
   "metadata": {},
   "outputs": [
    {
     "ename": "NameError",
     "evalue": "name 'age' is not defined",
     "output_type": "error",
     "traceback": [
      "\u001b[0;31m---------------------------------------------------------------------------\u001b[0m",
      "\u001b[0;31mNameError\u001b[0m                                 Traceback (most recent call last)",
      "Cell \u001b[0;32mIn[1], line 3\u001b[0m\n\u001b[1;32m      1\u001b[0m \u001b[38;5;66;03m#exceptonal handling\u001b[39;00m\n\u001b[1;32m      2\u001b[0m \u001b[38;5;66;03m#errors\u001b[39;00m\n\u001b[0;32m----> 3\u001b[0m \u001b[38;5;28;01mif\u001b[39;00m \u001b[43mage\u001b[49m \u001b[38;5;241m<\u001b[39m \u001b[38;5;241m30\u001b[39m:\n\u001b[1;32m      4\u001b[0m     \u001b[38;5;28mprint\u001b[39m(\u001b[38;5;124m'\u001b[39m\u001b[38;5;124mYoungster\u001b[39m\u001b[38;5;124m'\u001b[39m)\n",
      "\u001b[0;31mNameError\u001b[0m: name 'age' is not defined"
     ]
    }
   ],
   "source": [
    "#exceptonal handling\n",
    "#errors\n",
    "if age < 30:\n",
    "    print('Youngster')"
   ]
  },
  {
   "cell_type": "code",
   "execution_count": 2,
   "metadata": {},
   "outputs": [
    {
     "name": "stdout",
     "output_type": "stream",
     "text": [
      "Error Oucurred\n",
      "Operation Done!\n"
     ]
    }
   ],
   "source": [
    "#try except\n",
    "try:\n",
    "    if age < 30:\n",
    "        print('Youngster')\n",
    "except:\n",
    "    print('Error Oucurred')\n",
    "finally:\n",
    "    print('Operation Done!')\n",
    "    \n"
   ]
  },
  {
   "cell_type": "code",
   "execution_count": 4,
   "metadata": {},
   "outputs": [
    {
     "name": "stdout",
     "output_type": "stream",
     "text": [
      "Name not defined\n"
     ]
    }
   ],
   "source": [
    "#name error\n",
    "try:\n",
    "    if age < 30: \n",
    "        print('Youngster')\n",
    "except NameError:\n",
    "    print('Name not defined')\n",
    "except:\n",
    "    print('other error')\n"
   ]
  },
  {
   "cell_type": "code",
   "execution_count": 5,
   "metadata": {},
   "outputs": [
    {
     "name": "stdout",
     "output_type": "stream",
     "text": [
      "Type Not Valid\n"
     ]
    }
   ],
   "source": [
    "#type error\n",
    "age = input('Enter the Name')\n",
    "try:\n",
    "    if age < 30:\n",
    "        print('Youngster')\n",
    "except NameError:\n",
    "    print('Name not defined')\n",
    "except TypeError:\n",
    "    print('Type Not Valid')\n",
    "except:\n",
    "    print('Other Error')\n",
    "     \n"
   ]
  },
  {
   "cell_type": "code",
   "execution_count": 12,
   "metadata": {},
   "outputs": [
    {
     "name": "stdout",
     "output_type": "stream",
     "text": [
      "Other Error:\n",
      " '<' not supported between instances of 'str' and 'int'\n"
     ]
    }
   ],
   "source": [
    "#exception Message\n",
    "age = input('Enter the age: ')\n",
    "try:\n",
    "    if age<30:\n",
    "        print('Youngster')\n",
    "except NameError:\n",
    "    print('Name not defined')\n",
    "except Exception as ex:\n",
    "    print(f'Other Error:\\n {ex}')\n"
   ]
  },
  {
   "cell_type": "code",
   "execution_count": 13,
   "metadata": {},
   "outputs": [],
   "source": [
    "#file handling\n",
    "#create file\n",
    "file= open('Variablz.txt', 'x')\n",
    "#if file already exist,if throws as error\n",
    "file = open('Variablz', 'x')"
   ]
  },
  {
   "cell_type": "code",
   "execution_count": 14,
   "metadata": {},
   "outputs": [],
   "source": [
    "#write a file\n",
    "#write a text file\n",
    "file =open('Variablz.txt', 'w')\n",
    "file.write(''' \n",
    "Hi\n",
    "I am that the New Variablz File\n",
    "           \n",
    "This is writing example..\n",
    "           \n",
    "if file doesn't exist, I create  a new one,\n",
    "\n",
    "if file exist, I overwrite the contents\n",
    "''')\n",
    "file.close()\n"
   ]
  },
  {
   "cell_type": "code",
   "execution_count": 15,
   "metadata": {},
   "outputs": [],
   "source": [
    "#writing a CSV file\n",
    "file = open('students.csv', 'w')\n",
    "\n",
    "file.write(''' \n",
    "S.No, Course, Duration, Frr\n",
    "1, Python, 30, 6000\n",
    "2, Java, 30, 6000\n",
    "3, SQL, 30, 6000\n",
    "''')\n",
    "\n",
    "file.close()"
   ]
  },
  {
   "cell_type": "code",
   "execution_count": 16,
   "metadata": {},
   "outputs": [
    {
     "data": {
      "text/plain": [
       "154"
      ]
     },
     "execution_count": 16,
     "metadata": {},
     "output_type": "execute_result"
    }
   ],
   "source": [
    "#append to file\n",
    "file = open('Variablz_new.txt', 'a')\n",
    "file.write('''\n",
    "Hi \n",
    "I am that new Variablz File\n",
    "           \n",
    "if file doesn't exist, I create a new file\n",
    "           \n",
    "if file already exist, I just add contents to the end\n",
    "''')"
   ]
  },
  {
   "cell_type": "code",
   "execution_count": 17,
   "metadata": {},
   "outputs": [],
   "source": [
    "#append to a CSV File\n",
    "file = open('students.csv', 'a')\n",
    "\n",
    "file.write('''\n",
    "4, R Prgram, 30, 6000\n",
    "5, Ramya, 30, 6000\n",
    "6, Dust, 30, 6000\n",
    "''')\n",
    "\n",
    "file.close()"
   ]
  },
  {
   "cell_type": "code",
   "execution_count": 18,
   "metadata": {},
   "outputs": [
    {
     "name": "stdout",
     "output_type": "stream",
     "text": [
      " \n",
      "Hi\n",
      "I am that the New Variablz File\n",
      "           \n",
      "This is writing example..\n",
      "           \n",
      "if file doesn't exist, I create  a new one,\n",
      "\n",
      "if file exist, I overwrite the contents\n",
      "\n"
     ]
    }
   ],
   "source": [
    "#Read from file\n",
    "#read content\n",
    "file = open('Variablz.txt', mode='r')\n",
    "contents = file.read()\n",
    "print(contents)\n",
    "file.close()\n"
   ]
  },
  {
   "cell_type": "code",
   "execution_count": 20,
   "metadata": {},
   "outputs": [
    {
     "name": "stdout",
     "output_type": "stream",
     "text": [
      " \n",
      "\n"
     ]
    }
   ],
   "source": [
    "#read a single line\n",
    "file=open('Variablz.txt', mode='r',)\n",
    "contents = file.readline()\n",
    "print(contents)\n",
    "file.close()\n"
   ]
  },
  {
   "cell_type": "code",
   "execution_count": 22,
   "metadata": {},
   "outputs": [
    {
     "data": {
      "text/plain": [
       "[' \\n',\n",
       " 'Hi\\n',\n",
       " 'I am that the New Variablz File\\n',\n",
       " '           \\n',\n",
       " 'This is writing example..\\n',\n",
       " '           \\n',\n",
       " \"if file doesn't exist, I create  a new one,\\n\",\n",
       " '\\n',\n",
       " 'if file exist, I overwrite the contents\\n']"
      ]
     },
     "execution_count": 22,
     "metadata": {},
     "output_type": "execute_result"
    }
   ],
   "source": [
    "#read all lines\n",
    "file=open('Variablz.txt', mode='r',)\n",
    "contents = file.readlines()\n",
    "file.close()\n",
    "\n",
    "contents"
   ]
  },
  {
   "cell_type": "code",
   "execution_count": 23,
   "metadata": {},
   "outputs": [],
   "source": [
    "#using context Manager\n",
    "#with statement\n",
    "file_name = 'Variablz.txt'\n",
    "#using context Manager\n",
    "with open(file_name, 'w') as file:\n",
    "    file.write('This file written by context Manager')"
   ]
  },
  {
   "cell_type": "code",
   "execution_count": 24,
   "metadata": {},
   "outputs": [
    {
     "name": "stdout",
     "output_type": "stream",
     "text": [
      "File Exist\n"
     ]
    }
   ],
   "source": [
    "#file exists and delete\n",
    "import os\n",
    "if os.path.exists(\"Variablz.txt\"):\n",
    "    print('File Exist')\n",
    "else:\n",
    "    print(\"The file does not exist\")"
   ]
  },
  {
   "cell_type": "code",
   "execution_count": 27,
   "metadata": {},
   "outputs": [
    {
     "name": "stdout",
     "output_type": "stream",
     "text": [
      "The File does not exist\n"
     ]
    }
   ],
   "source": [
    "#file delete\n",
    "import os\n",
    "if os.path.exists(\"Variablz.txt\"):\n",
    "    os.remove('Variablz.txt')\n",
    "    print('File deleted successfully')\n",
    "else:\n",
    "    print(\"The File does not exist\")\n"
   ]
  },
  {
   "cell_type": "code",
   "execution_count": 29,
   "metadata": {},
   "outputs": [
    {
     "name": "stdout",
     "output_type": "stream",
     "text": [
      "2400\n"
     ]
    }
   ],
   "source": [
    "#functions\n",
    "#function definition\n",
    "#run the below code repeatedly\n",
    "#rectangular Area 01\n",
    "length = 60\n",
    "width = 40\n",
    "area = length * width\n",
    "print(area)"
   ]
  },
  {
   "cell_type": "code",
   "execution_count": 30,
   "metadata": {},
   "outputs": [],
   "source": [
    "#use the functions for reusability\n",
    "def calculate_area():\n",
    "    length = 60\n",
    "    width = 40\n",
    "    area = length * width\n",
    "    print(area)"
   ]
  },
  {
   "cell_type": "code",
   "execution_count": 31,
   "metadata": {},
   "outputs": [
    {
     "name": "stdout",
     "output_type": "stream",
     "text": [
      "2400\n",
      "2400\n",
      "2400\n"
     ]
    }
   ],
   "source": [
    "calculate_area()\n",
    "\n",
    "calculate_area()\n",
    "\n",
    "calculate_area()"
   ]
  },
  {
   "cell_type": "code",
   "execution_count": 34,
   "metadata": {},
   "outputs": [
    {
     "name": "stdout",
     "output_type": "stream",
     "text": [
      "2000\n",
      "2000\n",
      "4200\n"
     ]
    }
   ],
   "source": [
    "#arguments and parameters\n",
    "#Rectangular area 01\n",
    "length = 40\n",
    "width = 50\n",
    "area_01 = length * width\n",
    "print(area_01)\n",
    "\n",
    "length = 50\n",
    "width = 40\n",
    "area_02 = length * width\n",
    "print(area_02)\n",
    "\n",
    "length = 60\n",
    "width = 70\n",
    "area_03 = length * width\n",
    "print(area_03)"
   ]
  },
  {
   "cell_type": "code",
   "execution_count": 35,
   "metadata": {},
   "outputs": [],
   "source": [
    "#Functions with parameters and arguments\n",
    "def calculate_area(length,width):\n",
    "    \n",
    "    area = length * width\n",
    "    print(area)\n",
    "    "
   ]
  },
  {
   "cell_type": "code",
   "execution_count": 36,
   "metadata": {},
   "outputs": [
    {
     "name": "stdout",
     "output_type": "stream",
     "text": [
      "3000\n",
      "4200\n",
      "5600\n"
     ]
    }
   ],
   "source": [
    "calculate_area(50,60)\n",
    "\n",
    "calculate_area(60,70)\n",
    "\n",
    "calculate_area(70,80)\n"
   ]
  },
  {
   "cell_type": "code",
   "execution_count": 37,
   "metadata": {},
   "outputs": [],
   "source": [
    "#return values\n",
    "def calculate_area(length,width):\n",
    "     \n",
    "     area = length * width\n",
    "     return area"
   ]
  },
  {
   "cell_type": "code",
   "execution_count": 41,
   "metadata": {},
   "outputs": [
    {
     "data": {
      "text/plain": [
       "7800"
      ]
     },
     "execution_count": 41,
     "metadata": {},
     "output_type": "execute_result"
    }
   ],
   "source": [
    "area01 = calculate_area(50,60)\n",
    "area02 = calculate_area(60,80)\n",
    "\n",
    "total_area = area01 + area02\n",
    "total_area"
   ]
  },
  {
   "cell_type": "code",
   "execution_count": 42,
   "metadata": {},
   "outputs": [],
   "source": [
    "#default parameter\n",
    "def add_user(Name, mailID, phonenumber, age = 19):\n",
    "\n",
    "    user = {\n",
    "        'firstName':Name,\n",
    "        'mailID':mailID,\n",
    "        'phonenumber':phonenumber,\n",
    "        'age':age\n",
    "    }\n",
    "\n",
    "    return user"
   ]
  },
  {
   "cell_type": "code",
   "execution_count": 44,
   "metadata": {},
   "outputs": [
    {
     "data": {
      "text/plain": [
       "{'firstName': 'janani',\n",
       " 'mailID': 'janani4679@gmail.com',\n",
       " 'phonenumber': '8754696046',\n",
       " 'age': 19}"
      ]
     },
     "execution_count": 44,
     "metadata": {},
     "output_type": "execute_result"
    }
   ],
   "source": [
    "#default user\n",
    "add_user('janani','janani4679@gmail.com','8754696046')"
   ]
  },
  {
   "cell_type": "code",
   "execution_count": 45,
   "metadata": {},
   "outputs": [
    {
     "data": {
      "text/plain": [
       "{'firstName': 'janani',\n",
       " 'mailID': 'janani4679@gmail.com',\n",
       " 'phonenumber': '8754696046',\n",
       " 'age': 19}"
      ]
     },
     "execution_count": 45,
     "metadata": {},
     "output_type": "execute_result"
    }
   ],
   "source": [
    "add_user('janani','janani4679@gmail.com','8754696046',19)"
   ]
  },
  {
   "cell_type": "code",
   "execution_count": 26,
   "metadata": {},
   "outputs": [],
   "source": [
    "#function with multiple default parameter\n",
    "def add_user(Name, mailID, phonenumber, age = 19, city='pondicherry'):\n",
    "\n",
    "   add_user = {\n",
    "        'firstName':Name,\n",
    "        'mailID':mailID,\n",
    "        'phonenumber':phonenumber,\n",
    "        'age':age,\n",
    "        'city':city\n",
    "    }\n",
    "   return add_user"
   ]
  },
  {
   "cell_type": "code",
   "execution_count": 5,
   "metadata": {},
   "outputs": [
    {
     "name": "stdout",
     "output_type": "stream",
     "text": [
      "Variablz Software Training\n",
      "Semmadalam\n",
      " Cuddalore\n"
     ]
    }
   ],
   "source": [
    "#without argument without return type\n",
    "def acadamy_info():\n",
    "    print('Variablz Software Training')\n",
    "    print('Semmadalam\\n Cuddalore') \n",
    "acadamy_info()                                                                       "
   ]
  },
  {
   "cell_type": "code",
   "execution_count": 8,
   "metadata": {},
   "outputs": [
    {
     "name": "stdout",
     "output_type": "stream",
     "text": [
      "add of two no 10.5\n"
     ]
    }
   ],
   "source": [
    "#within argument within return type\n",
    "def add(x,y):\n",
    "    return x+y\n",
    "print ('add of two no' ,add (3.5,7))\n"
   ]
  },
  {
   "cell_type": "code",
   "execution_count": 12,
   "metadata": {},
   "outputs": [
    {
     "name": "stdout",
     "output_type": "stream",
     "text": [
      "the rectangle area 276\n"
     ]
    }
   ],
   "source": [
    "#without argument within return\n",
    "def rect_angle():\n",
    "    l,b = map (int, input('enter the length,breadth value').split(' '))\n",
    "    r = l*b\n",
    "    return r\n",
    "ans = rect_angle()\n",
    "print ('the rectangle area',ans)\n"
   ]
  },
  {
   "cell_type": "code",
   "execution_count": 13,
   "metadata": {},
   "outputs": [
    {
     "name": "stdout",
     "output_type": "stream",
     "text": [
      "The circle fo area 50.24\n"
     ]
    }
   ],
   "source": [
    "#within argment and without return type\n",
    "def cir_area(r):\n",
    "    res=3.14*r*r\n",
    "    print('The circle fo area',res)\n",
    "cir_area(4)"
   ]
  },
  {
   "cell_type": "code",
   "execution_count": 27,
   "metadata": {},
   "outputs": [
    {
     "data": {
      "text/plain": [
       "{'firstName': 'janani',\n",
       " 'mailID': 'janani4679@gmail.com',\n",
       " 'phonenumber': '8745686054',\n",
       " 'age': 19,\n",
       " 'city': 'Pondicherry'}"
      ]
     },
     "execution_count": 27,
     "metadata": {},
     "output_type": "execute_result"
    }
   ],
   "source": [
    "#pass argument using keywords \n",
    "add_user('janani', 'janani4679@gmail.com', '8745686054',\n",
    "         city = 'Pondicherry')\n"
   ]
  },
  {
   "cell_type": "code",
   "execution_count": 29,
   "metadata": {},
   "outputs": [
    {
     "data": {
      "text/plain": [
       "{'firstName': 'janani',\n",
       " 'mailID': 'janani4679@gmail.com',\n",
       " 'phonenumber': '8745686054',\n",
       " 'age': 19,\n",
       " 'city': 'Pondicherry'}"
      ]
     },
     "execution_count": 29,
     "metadata": {},
     "output_type": "execute_result"
    }
   ],
   "source": [
    "#order doesn't Matter\n",
    "add_user('janani', 'janani4679@gmail.com', '8745686054',\n",
    "         city = 'Pondicherry', age=19)"
   ]
  },
  {
   "cell_type": "code",
   "execution_count": 30,
   "metadata": {},
   "outputs": [],
   "source": [
    "#arbitrary argments/Variable length arguments\n",
    "#ordering food\n",
    "def order_food(*items):\n",
    "    cart = []\n",
    "\n",
    "    for item in items:\n",
    "        cart.append(item)\n",
    "\n",
    "    return cart"
   ]
  },
  {
   "cell_type": "code",
   "execution_count": 31,
   "metadata": {},
   "outputs": [
    {
     "name": "stdout",
     "output_type": "stream",
     "text": [
      "['chilly chiken', 'garlic chicken', 'butter rotti', 'Goli soda']\n"
     ]
    }
   ],
   "source": [
    "lunch = order_food('chilly chiken', 'garlic chicken',\n",
    "                   'butter rotti', 'Goli soda')\n",
    "print(lunch)"
   ]
  },
  {
   "cell_type": "code",
   "execution_count": 32,
   "metadata": {},
   "outputs": [],
   "source": [
    "#sum of numbers\n",
    "def sum_all_numbers(*numbers):\n",
    "\n",
    "    total = sum(numbers)\n",
    "    return total"
   ]
  },
  {
   "cell_type": "code",
   "execution_count": 33,
   "metadata": {},
   "outputs": [
    {
     "data": {
      "text/plain": [
       "33"
      ]
     },
     "execution_count": 33,
     "metadata": {},
     "output_type": "execute_result"
    }
   ],
   "source": [
    "sum_all_numbers(1,13,4,6,9)"
   ]
  },
  {
   "cell_type": "code",
   "execution_count": 42,
   "metadata": {},
   "outputs": [
    {
     "name": "stdout",
     "output_type": "stream",
     "text": [
      "Help on function calculate_area in module __main__:\n",
      "\n",
      "calculate_area(length, height)\n",
      "    To calculate the Rectangle Area:\n",
      "    calclate-area(length of rectangle, height of rectangle)\n",
      "\n"
     ]
    }
   ],
   "source": [
    "#docstring-user Manual\n",
    "#docstring\n",
    "def calculate_area(length,height):\n",
    "    \"\"\"\n",
    "    To calculate the Rectangle Area:\n",
    "    calclate-area(length of rectangle, height of rectangle)\n",
    "    \"\"\"\n",
    "\n",
    "    rectangle_area = length * height\n",
    "\n",
    "    return rectangle_area\n",
    " \n",
    "#help function\n",
    "help(calculate_area)"
   ]
  },
  {
   "cell_type": "code",
   "execution_count": 47,
   "metadata": {},
   "outputs": [],
   "source": [
    "\n",
    "def jio_offer():\n",
    "    '''jio_offer provide for one month package, 6 month package, 1 year package'''\n",
    "    print('one month package 28 days 299')\n",
    "    print('6 month package 800 rs')\n",
    "    print('1 year package 3000/-')"
   ]
  },
  {
   "cell_type": "code",
   "execution_count": 48,
   "metadata": {},
   "outputs": [
    {
     "name": "stdout",
     "output_type": "stream",
     "text": [
      "Help on function jio_offer in module __main__:\n",
      "\n",
      "jio_offer()\n",
      "    jio_offer provide for one month package, 6 month package, 1 year package\n",
      "\n"
     ]
    }
   ],
   "source": [
    "help(jio_offer)                                                             "
   ]
  },
  {
   "cell_type": "code",
   "execution_count": 49,
   "metadata": {},
   "outputs": [
    {
     "name": "stdout",
     "output_type": "stream",
     "text": [
      "one month package 28 days 299\n",
      "6 month package 800 rs\n",
      "1 year package 3000/-\n"
     ]
    }
   ],
   "source": [
    "jio_offer()"
   ]
  },
  {
   "cell_type": "code",
   "execution_count": 53,
   "metadata": {},
   "outputs": [
    {
     "name": "stdout",
     "output_type": "stream",
     "text": [
      "jio_offer provide for one month package, 6 month package, 1 year package\n"
     ]
    }
   ],
   "source": [
    "print(jio_offer.__doc__)"
   ]
  },
  {
   "cell_type": "code",
   "execution_count": 4,
   "metadata": {},
   "outputs": [
    {
     "name": "stdout",
     "output_type": "stream",
     "text": [
      "circle of area 38.48451000647496\n",
      "rectangle of area 16.0\n"
     ]
    }
   ],
   "source": [
    "import new\n",
    "print('circle of area',new.circle(3.5))\n",
    "print('rectangle of area',new.rectangle(5,3.2))\n"
   ]
  },
  {
   "cell_type": "code",
   "execution_count": 11,
   "metadata": {},
   "outputs": [],
   "source": [
    "#importing modules\n",
    "#import all modules\n",
    "import new\n",
    "\n"
   ]
  },
  {
   "cell_type": "code",
   "execution_count": 12,
   "metadata": {},
   "outputs": [
    {
     "data": {
      "text/plain": [
       "78.53981633974483"
      ]
     },
     "execution_count": 12,
     "metadata": {},
     "output_type": "execute_result"
    }
   ],
   "source": [
    "new.circle(5)"
   ]
  },
  {
   "cell_type": "code",
   "execution_count": 13,
   "metadata": {},
   "outputs": [
    {
     "data": {
      "text/plain": [
       "50"
      ]
     },
     "execution_count": 13,
     "metadata": {},
     "output_type": "execute_result"
    }
   ],
   "source": [
    "new.rectangle(10,5)"
   ]
  },
  {
   "cell_type": "code",
   "execution_count": 1,
   "metadata": {},
   "outputs": [],
   "source": [
    "from new import circle"
   ]
  },
  {
   "cell_type": "code",
   "execution_count": 4,
   "metadata": {},
   "outputs": [],
   "source": [
    "#class\n",
    "class AmazonAccount:\n",
    "    message='Welcome to Amazon'\n",
    "\n"
   ]
  },
  {
   "cell_type": "code",
   "execution_count": 6,
   "metadata": {},
   "outputs": [],
   "source": [
    "#object\n",
    "Janani = AmazonAccount()\n",
    "Gopika = AmazonAccount()\n"
   ]
  },
  {
   "cell_type": "code",
   "execution_count": 8,
   "metadata": {},
   "outputs": [
    {
     "data": {
      "text/plain": [
       "'Welcome to Amazon'"
      ]
     },
     "execution_count": 8,
     "metadata": {},
     "output_type": "execute_result"
    }
   ],
   "source": [
    "Janani.message"
   ]
  },
  {
   "cell_type": "code",
   "execution_count": 11,
   "metadata": {},
   "outputs": [
    {
     "data": {
      "text/plain": [
       "'Welcome to Amazon'"
      ]
     },
     "execution_count": 11,
     "metadata": {},
     "output_type": "execute_result"
    }
   ],
   "source": [
    "Gopika.message"
   ]
  },
  {
   "cell_type": "code",
   "execution_count": null,
   "metadata": {},
   "outputs": [],
   "source": []
  }
 ],
 "metadata": {
  "kernelspec": {
   "display_name": "Python 3",
   "language": "python",
   "name": "python3"
  },
  "language_info": {
   "codemirror_mode": {
    "name": "ipython",
    "version": 3
   },
   "file_extension": ".py",
   "mimetype": "text/x-python",
   "name": "python",
   "nbconvert_exporter": "python",
   "pygments_lexer": "ipython3",
   "version": "3.10.12"
  }
 },
 "nbformat": 4,
 "nbformat_minor": 2
}
