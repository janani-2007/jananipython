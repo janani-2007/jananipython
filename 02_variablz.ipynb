{
 "cells": [
  {
   "cell_type": "code",
   "execution_count": 1,
   "metadata": {},
   "outputs": [
    {
     "data": {
      "text/plain": [
       "('python', 'R Program', 'SQLDart')"
      ]
     },
     "execution_count": 1,
     "metadata": {},
     "output_type": "execute_result"
    }
   ],
   "source": [
    "#create a list \n",
    "books=('python', 'R Program', 'SQL' 'Dart')\n",
    "books"
   ]
  },
  {
   "cell_type": "code",
   "execution_count": 2,
   "metadata": {},
   "outputs": [
    {
     "data": {
      "text/plain": [
       "(10, 40, 50, 70)"
      ]
     },
     "execution_count": 2,
     "metadata": {},
     "output_type": "execute_result"
    }
   ],
   "source": [
    "numbers=(10,40,50,70)\n",
    "numbers"
   ]
  },
  {
   "cell_type": "code",
   "execution_count": 3,
   "metadata": {},
   "outputs": [
    {
     "data": {
      "text/plain": [
       "('janani', 18, 'female', 8754606046)"
      ]
     },
     "execution_count": 3,
     "metadata": {},
     "output_type": "execute_result"
    }
   ],
   "source": [
    "person=('janani',18,'female', 8754606046)\n",
    "person"
   ]
  },
  {
   "cell_type": "code",
   "execution_count": 4,
   "metadata": {},
   "outputs": [
    {
     "data": {
      "text/plain": [
       "[]"
      ]
     },
     "execution_count": 4,
     "metadata": {},
     "output_type": "execute_result"
    }
   ],
   "source": [
    "#add item to the list\n",
    "books= []\n",
    "books"
   ]
  },
  {
   "cell_type": "code",
   "execution_count": 5,
   "metadata": {},
   "outputs": [
    {
     "data": {
      "text/plain": [
       "['python', 'R program', 'SQL', 'dart']"
      ]
     },
     "execution_count": 5,
     "metadata": {},
     "output_type": "execute_result"
    }
   ],
   "source": [
    "books.append('python')\n",
    "books.append('R program')\n",
    "books.append('SQL')\n",
    "books.append('dart')\n",
    "books"
   ]
  },
  {
   "cell_type": "code",
   "execution_count": 11,
   "metadata": {},
   "outputs": [
    {
     "data": {
      "text/plain": [
       "['dart', 'flutter']"
      ]
     },
     "execution_count": 11,
     "metadata": {},
     "output_type": "execute_result"
    }
   ],
   "source": [
    "books=['dart','SQL','flutter','django','flask']\n",
    "books\n",
    "books.remove('django')\n",
    "books.remove('SQL')\n",
    "books.remove('flask') \n",
    "books"
   ]
  },
  {
   "cell_type": "code",
   "execution_count": 22,
   "metadata": {},
   "outputs": [
    {
     "data": {
      "text/plain": [
       "[]"
      ]
     },
     "execution_count": 22,
     "metadata": {},
     "output_type": "execute_result"
    }
   ],
   "source": [
    "#clear items from the list\n",
    "books=['dart','SQL','flutter','django','flask']\n",
    "books.clear()\n",
    "books"
   ]
  },
  {
   "cell_type": "code",
   "execution_count": 23,
   "metadata": {},
   "outputs": [
    {
     "data": {
      "text/plain": [
       "['dart', 'SQL', 'flutter', 'django', 'flask']"
      ]
     },
     "execution_count": 23,
     "metadata": {},
     "output_type": "execute_result"
    }
   ],
   "source": [
    "#replace and reset list\n",
    "books=['dart','SQL','flutter','django','flask']\n",
    "books"
   ]
  },
  {
   "cell_type": "code",
   "execution_count": 24,
   "metadata": {},
   "outputs": [
    {
     "data": {
      "text/plain": [
       "[]"
      ]
     },
     "execution_count": 24,
     "metadata": {},
     "output_type": "execute_result"
    }
   ],
   "source": [
    "#Reset list\n",
    "books=[]\n",
    "books"
   ]
  },
  {
   "cell_type": "code",
   "execution_count": 25,
   "metadata": {},
   "outputs": [
    {
     "data": {
      "text/plain": [
       "['Tamil', 'English', 'Maths']"
      ]
     },
     "execution_count": 25,
     "metadata": {},
     "output_type": "execute_result"
    }
   ],
   "source": [
    "#Replace list\n",
    "books=['Tamil','English','Maths']\n",
    "books"
   ]
  },
  {
   "cell_type": "code",
   "execution_count": 30,
   "metadata": {},
   "outputs": [
    {
     "data": {
      "text/plain": [
       "'flask'"
      ]
     },
     "execution_count": 30,
     "metadata": {},
     "output_type": "execute_result"
    }
   ],
   "source": [
    "#listing index\n",
    "books=['dart','SQL','flutter','django','flask']\n",
    "books\n",
    "books[0]\n",
    "books[4]"
   ]
  },
  {
   "cell_type": "code",
   "execution_count": 34,
   "metadata": {},
   "outputs": [
    {
     "ename": "IndexError",
     "evalue": "list index out of range",
     "output_type": "error",
     "traceback": [
      "\u001b[0;31m---------------------------------------------------------------------------\u001b[0m",
      "\u001b[0;31mIndexError\u001b[0m                                Traceback (most recent call last)",
      "Cell \u001b[0;32mIn[34], line 4\u001b[0m\n\u001b[1;32m      2\u001b[0m books\u001b[38;5;241m=\u001b[39m[\u001b[38;5;124m'\u001b[39m\u001b[38;5;124mdart\u001b[39m\u001b[38;5;124m'\u001b[39m,\u001b[38;5;124m'\u001b[39m\u001b[38;5;124mSQL\u001b[39m\u001b[38;5;124m'\u001b[39m,\u001b[38;5;124m'\u001b[39m\u001b[38;5;124mflutter\u001b[39m\u001b[38;5;124m'\u001b[39m,\u001b[38;5;124m'\u001b[39m\u001b[38;5;124mdjango\u001b[39m\u001b[38;5;124m'\u001b[39m,\u001b[38;5;124m'\u001b[39m\u001b[38;5;124mflask\u001b[39m\u001b[38;5;124m'\u001b[39m]\n\u001b[1;32m      3\u001b[0m books \n\u001b[0;32m----> 4\u001b[0m \u001b[43mbooks\u001b[49m\u001b[43m[\u001b[49m\u001b[38;5;241;43m5\u001b[39;49m\u001b[43m]\u001b[49m\n",
      "\u001b[0;31mIndexError\u001b[0m: list index out of range"
     ]
    }
   ],
   "source": [
    "#invailding indexing\n",
    "books=['dart','SQL','flutter','django','flask']\n",
    "books \n",
    "books[5]\n"
   ]
  },
  {
   "cell_type": "code",
   "execution_count": 48,
   "metadata": {},
   "outputs": [
    {
     "data": {
      "text/plain": [
       "['dart', 'SQL', 'flutter', 'django', 'dust', 'flask']"
      ]
     },
     "execution_count": 48,
     "metadata": {},
     "output_type": "execute_result"
    }
   ],
   "source": [
    "#insert item\n",
    "books=['dart','SQL','flutter','django','flask']\n",
    "books\n",
    "books.insert(4,'dust')\n",
    "books"
   ]
  },
  {
   "cell_type": "code",
   "execution_count": 40,
   "metadata": {},
   "outputs": [
    {
     "data": {
      "text/plain": [
       "['dart', 'SQL', 'django', 'flask']"
      ]
     },
     "execution_count": 40,
     "metadata": {},
     "output_type": "execute_result"
    }
   ],
   "source": [
    "#replace item\n",
    "books=['dart','SQL','django','flask']\n",
    "books"
   ]
  },
  {
   "cell_type": "code",
   "execution_count": 41,
   "metadata": {},
   "outputs": [
    {
     "data": {
      "text/plain": [
       "'django'"
      ]
     },
     "execution_count": 41,
     "metadata": {},
     "output_type": "execute_result"
    }
   ],
   "source": [
    "books[2]"
   ]
  },
  {
   "cell_type": "code",
   "execution_count": 49,
   "metadata": {},
   "outputs": [
    {
     "data": {
      "text/plain": [
       "['dart', 'SQL', 'flutter', 'django', 'dust']"
      ]
     },
     "execution_count": 49,
     "metadata": {},
     "output_type": "execute_result"
    }
   ],
   "source": [
    "#assign new items\n",
    "books=['dart','SQL','flutter','django','flask']\n",
    "books[4]= 'dust'\n",
    "books"
   ]
  },
  {
   "cell_type": "code",
   "execution_count": 50,
   "metadata": {},
   "outputs": [
    {
     "data": {
      "text/plain": [
       "['dart', 'SQL', 'flutter', 'django', 'flask']"
      ]
     },
     "execution_count": 50,
     "metadata": {},
     "output_type": "execute_result"
    }
   ],
   "source": [
    "#find item in list\n",
    "books=['dart','SQL','flutter','django','flask']\n",
    "books"
   ]
  },
  {
   "cell_type": "code",
   "execution_count": 51,
   "metadata": {},
   "outputs": [
    {
     "data": {
      "text/plain": [
       "True"
      ]
     },
     "execution_count": 51,
     "metadata": {},
     "output_type": "execute_result"
    }
   ],
   "source": [
    "#membership fucntion\n",
    "'SQL'in books"
   ]
  },
  {
   "cell_type": "code",
   "execution_count": 53,
   "metadata": {},
   "outputs": [
    {
     "data": {
      "text/plain": [
       "5"
      ]
     },
     "execution_count": 53,
     "metadata": {},
     "output_type": "execute_result"
    }
   ],
   "source": [
    "#total items\n",
    "books=['dart','SQL','flutter','django','flask']\n",
    "books\n",
    "len(books)"
   ]
  },
  {
   "cell_type": "code",
   "execution_count": 54,
   "metadata": {},
   "outputs": [
    {
     "data": {
      "text/plain": [
       "[['janani', 'suganya', 'gopika', 'lavanya', 'geetha'],\n",
       " ['sugan', 'lakshmi', 'gopal', 'keerthi']]"
      ]
     },
     "execution_count": 54,
     "metadata": {},
     "output_type": "execute_result"
    }
   ],
   "source": [
    "#nested list\n",
    "class_a=['janani','suganya','gopika','lavanya','geetha']\n",
    "class_b=['sugan','lakshmi','gopal','keerthi']\n",
    "school=[class_a,class_b]\n",
    "school"
   ]
  },
  {
   "cell_type": "code",
   "execution_count": 57,
   "metadata": {},
   "outputs": [
    {
     "data": {
      "text/plain": [
       "('mon', 'tue', 'wed', 'thu', 'fri')"
      ]
     },
     "execution_count": 57,
     "metadata": {},
     "output_type": "execute_result"
    }
   ],
   "source": [
    "#tuple\n",
    "week_days=('mon','tue','wed','thu','fri') \n",
    "week_days\n"
   ]
  },
  {
   "cell_type": "code",
   "execution_count": 59,
   "metadata": {},
   "outputs": [
    {
     "data": {
      "text/plain": [
       "(6567354, 6567346, 6567357, 6567358)"
      ]
     },
     "execution_count": 59,
     "metadata": {},
     "output_type": "execute_result"
    }
   ],
   "source": [
    "exam_numbers=(6567354,6567346,6567357,6567358)\n",
    "exam_numbers"
   ]
  },
  {
   "cell_type": "code",
   "execution_count": 60,
   "metadata": {},
   "outputs": [
    {
     "data": {
      "text/plain": [
       "('janani', 18, 'female', 8754606046)"
      ]
     },
     "execution_count": 60,
     "metadata": {},
     "output_type": "execute_result"
    }
   ],
   "source": [
    "person=('janani',18,'female',8754606046)\n",
    "person"
   ]
  },
  {
   "cell_type": "code",
   "execution_count": 64,
   "metadata": {},
   "outputs": [
    {
     "data": {
      "text/plain": [
       "1"
      ]
     },
     "execution_count": 64,
     "metadata": {},
     "output_type": "execute_result"
    }
   ],
   "source": [
    "#count items\n",
    "fruits=('jack fruit','kiwi','mango','watermelon')\n",
    "fruits\n",
    "fruits.count('kiwi')"
   ]
  },
  {
   "cell_type": "code",
   "execution_count": 66,
   "metadata": {},
   "outputs": [
    {
     "data": {
      "text/plain": [
       "'balaji'"
      ]
     },
     "execution_count": 66,
     "metadata": {},
     "output_type": "execute_result"
    }
   ],
   "source": [
    "#indexing\n",
    "friends=('janani','gopika','saravana','balaji')\n",
    "friends\n",
    "friends[3]"
   ]
  },
  {
   "cell_type": "code",
   "execution_count": 71,
   "metadata": {},
   "outputs": [
    {
     "data": {
      "text/plain": [
       "('janani', 'gopika', 'saravana', 'balaji')"
      ]
     },
     "execution_count": 71,
     "metadata": {},
     "output_type": "execute_result"
    }
   ],
   "source": [
    "#get index\n",
    "friends=('janani','gopika','saravana','balaji')\n",
    "friends.index('balaji')\n",
    "friends"
   ]
  },
  {
   "cell_type": "code",
   "execution_count": 72,
   "metadata": {},
   "outputs": [
    {
     "data": {
      "text/plain": [
       "4"
      ]
     },
     "execution_count": 72,
     "metadata": {},
     "output_type": "execute_result"
    }
   ],
   "source": [
    "#total items\n",
    "friends=('janani','gopika','saravana','balaji')\n",
    "len(friends)"
   ]
  },
  {
   "cell_type": "code",
   "execution_count": 73,
   "metadata": {},
   "outputs": [
    {
     "data": {
      "text/plain": [
       "{'Tamil': 90, 'English': 83, 'Maths': 97, 'Science': 85, 'Social': 70}"
      ]
     },
     "execution_count": 73,
     "metadata": {},
     "output_type": "execute_result"
    }
   ],
   "source": [
    "#create dictionary\n",
    "score= {\n",
    "    'Tamil':90,\n",
    "    'English':83,\n",
    "    'Maths':97,\n",
    "    'Science':85,\n",
    "    'Social':70\n",
    "}\n",
    "\n",
    "score"
   ]
  },
  {
   "cell_type": "code",
   "execution_count": 75,
   "metadata": {},
   "outputs": [],
   "source": [
    "students = {}"
   ]
  },
  {
   "cell_type": "code",
   "execution_count": 76,
   "metadata": {},
   "outputs": [
    {
     "data": {
      "text/plain": [
       "{6567354: 'janani', 6567355: 'gopika', 6567356: 'saravana', 6567357: 'balaji'}"
      ]
     },
     "execution_count": 76,
     "metadata": {},
     "output_type": "execute_result"
    }
   ],
   "source": [
    "#add entry\n",
    "students[6567354] = 'janani'\n",
    "students[6567355] = 'gopika'\n",
    "students[6567356] = 'saravana'\n",
    "students[6567357] = 'balaji' \n",
    "students"
   ]
  },
  {
   "cell_type": "code",
   "execution_count": 81,
   "metadata": {},
   "outputs": [
    {
     "data": {
      "text/plain": [
       "'gopika'"
      ]
     },
     "execution_count": 81,
     "metadata": {},
     "output_type": "execute_result"
    }
   ],
   "source": [
    "#remove entry\n",
    "students={\n",
    "    6567354: 'janani',\n",
    "    6567355: 'gopika',\n",
    "    6567356: 'saravana',\n",
    "    6567357: 'balaji' \n",
    "}\n",
    "\n",
    "students \n",
    "students.pop(6567355)"
   ]
  },
  {
   "cell_type": "code",
   "execution_count": 84,
   "metadata": {},
   "outputs": [
    {
     "data": {
      "text/plain": [
       "'janani'"
      ]
     },
     "execution_count": 84,
     "metadata": {},
     "output_type": "execute_result"
    }
   ],
   "source": [
    "#access value\n",
    "students={\n",
    "    6567354: 'janani',\n",
    "    6567355: 'gopika',\n",
    "    6567356: 'saravana',\n",
    "    6567357: 'balaji' \n",
    "}  \n",
    "students[6567354]"
   ]
  },
  {
   "cell_type": "code",
   "execution_count": 86,
   "metadata": {},
   "outputs": [
    {
     "data": {
      "text/plain": [
       "{6567354: 'janani', 6567355: 'gopika', 6567356: 'harinee', 6567357: 'balaji'}"
      ]
     },
     "execution_count": 86,
     "metadata": {},
     "output_type": "execute_result"
    }
   ],
   "source": [
    "#modify values\n",
    "students={\n",
    "    6567354: 'janani',\n",
    "    6567355: 'gopika',\n",
    "    6567356: 'saravana',\n",
    "    6567357: 'balaji' \n",
    "}  \n",
    "students[6567356]='harinee'\n",
    "students"
   ]
  },
  {
   "cell_type": "code",
   "execution_count": 89,
   "metadata": {},
   "outputs": [
    {
     "data": {
      "text/plain": [
       "dict_values(['janani', 'gopika', 'saravana', 'balaji'])"
      ]
     },
     "execution_count": 89,
     "metadata": {},
     "output_type": "execute_result"
    }
   ],
   "source": [
    "#get keys and values\n",
    "students={\n",
    "    6567354: 'janani',\n",
    "    6567355: 'gopika',\n",
    "    6567356: 'saravana',\n",
    "    6567357: 'balaji' \n",
    "}  \n",
    "\n",
    "#get keys\n",
    "students.keys()\n",
    "#get values \n",
    "students.values()"
   ]
  },
  {
   "cell_type": "code",
   "execution_count": 91,
   "metadata": {},
   "outputs": [
    {
     "data": {
      "text/plain": [
       "{6567354: 'janani', 6567355: 'gopika', 6567356: 'saravana', 6567357: 'balaji'}"
      ]
     },
     "execution_count": 91,
     "metadata": {},
     "output_type": "execute_result"
    }
   ],
   "source": [
    "#find key exsists\n",
    "students={\n",
    "    6567354: 'janani',\n",
    "    6567355: 'gopika',\n",
    "    6567356: 'saravana',\n",
    "    6567357: 'balaji' \n",
    "}  \n",
    "students "
   ]
  },
  {
   "cell_type": "code",
   "execution_count": 92,
   "metadata": {},
   "outputs": [
    {
     "data": {
      "text/plain": [
       "True"
      ]
     },
     "execution_count": 92,
     "metadata": {},
     "output_type": "execute_result"
    }
   ],
   "source": [
    "6567355 in students"
   ]
  },
  {
   "cell_type": "code",
   "execution_count": 94,
   "metadata": {},
   "outputs": [
    {
     "data": {
      "text/plain": [
       "False"
      ]
     },
     "execution_count": 94,
     "metadata": {},
     "output_type": "execute_result"
    }
   ],
   "source": [
    "6567359in students.keys()"
   ]
  },
  {
   "cell_type": "code",
   "execution_count": 95,
   "metadata": {},
   "outputs": [
    {
     "data": {
      "text/plain": [
       "{6567354: 'janani', 6567355: 'gopika', 6567356: 'saravana', 6567357: 'balaji'}"
      ]
     },
     "execution_count": 95,
     "metadata": {},
     "output_type": "execute_result"
    }
   ],
   "source": [
    "#find value exsists\n",
    "students={\n",
    "    6567354: 'janani',\n",
    "    6567355: 'gopika',\n",
    "    6567356: 'saravana',\n",
    "    6567357: 'balaji' \n",
    "}  \n",
    "students "
   ]
  },
  {
   "cell_type": "code",
   "execution_count": 96,
   "metadata": {},
   "outputs": [
    {
     "data": {
      "text/plain": [
       "True"
      ]
     },
     "execution_count": 96,
     "metadata": {},
     "output_type": "execute_result"
    }
   ],
   "source": [
    "'gopika' in students.values()"
   ]
  },
  {
   "cell_type": "code",
   "execution_count": 99,
   "metadata": {},
   "outputs": [
    {
     "data": {
      "text/plain": [
       "False"
      ]
     },
     "execution_count": 99,
     "metadata": {},
     "output_type": "execute_result"
    }
   ],
   "source": [
    "'ramesh' in students.values()"
   ]
  },
  {
   "cell_type": "code",
   "execution_count": 100,
   "metadata": {},
   "outputs": [
    {
     "data": {
      "text/plain": [
       "{6567354: 'janani', 6567355: 'gopika', 6567356: 'saravana', 6567357: 'balaji'}"
      ]
     },
     "execution_count": 100,
     "metadata": {},
     "output_type": "execute_result"
    }
   ],
   "source": [
    "#total items\n",
    "students={\n",
    "    6567354: 'janani',\n",
    "    6567355: 'gopika',\n",
    "    6567356: 'saravana',\n",
    "    6567357: 'balaji' \n",
    "}  \n",
    "students \n"
   ]
  },
  {
   "cell_type": "code",
   "execution_count": 101,
   "metadata": {},
   "outputs": [
    {
     "data": {
      "text/plain": [
       "4"
      ]
     },
     "execution_count": 101,
     "metadata": {},
     "output_type": "execute_result"
    }
   ],
   "source": [
    "len(students)"
   ]
  },
  {
   "cell_type": "code",
   "execution_count": 102,
   "metadata": {},
   "outputs": [
    {
     "data": {
      "text/plain": [
       "{-9, -5, 1, 2, 3, 4, 5, 6, 8}"
      ]
     },
     "execution_count": 102,
     "metadata": {},
     "output_type": "execute_result"
    }
   ],
   "source": [
    "#set\n",
    "a={-5,-9,8,5,2,3}\n",
    "b={1,4,3,2,2,5,6}\n",
    "a.union(b)"
   ]
  },
  {
   "cell_type": "code",
   "execution_count": 108,
   "metadata": {},
   "outputs": [
    {
     "data": {
      "text/plain": [
       "{-9, -5, 1, 2, 3, 4, 5, 6, 8}"
      ]
     },
     "execution_count": 108,
     "metadata": {},
     "output_type": "execute_result"
    }
   ],
   "source": [
    "a={-5,-9,8,5,2,3}\n",
    "b={1,4,3,2,2,5,6}\n",
    "b.union(a)"
   ]
  },
  {
   "cell_type": "code",
   "execution_count": 103,
   "metadata": {},
   "outputs": [
    {
     "data": {
      "text/plain": [
       "{2, 3, 5}"
      ]
     },
     "execution_count": 103,
     "metadata": {},
     "output_type": "execute_result"
    }
   ],
   "source": [
    "a={-5,-9,8,5,2,3}\n",
    "b={1,4,3,2,2,5,6}\n",
    "a.intersection(b)"
   ]
  },
  {
   "cell_type": "code",
   "execution_count": 106,
   "metadata": {},
   "outputs": [
    {
     "data": {
      "text/plain": [
       "{2, 3, 5}"
      ]
     },
     "execution_count": 106,
     "metadata": {},
     "output_type": "execute_result"
    }
   ],
   "source": [
    "a={-5,-9,8,5,2,3}\n",
    "b={1,4,3,2,2,5,6}\n",
    "b.intersection(a)"
   ]
  },
  {
   "cell_type": "code",
   "execution_count": 105,
   "metadata": {},
   "outputs": [
    {
     "data": {
      "text/plain": [
       "{1, 4, 6}"
      ]
     },
     "execution_count": 105,
     "metadata": {},
     "output_type": "execute_result"
    }
   ],
   "source": [
    "#difference of b\n",
    "a={-5,-9,8,5,2,3}\n",
    "b={1,4,3,2,2,5,6}\n",
    "b.difference(a)"
   ]
  },
  {
   "cell_type": "code",
   "execution_count": 107,
   "metadata": {},
   "outputs": [
    {
     "data": {
      "text/plain": [
       "{-9, -5, 8}"
      ]
     },
     "execution_count": 107,
     "metadata": {},
     "output_type": "execute_result"
    }
   ],
   "source": [
    "a={-5,-9,8,5,2,3}\n",
    "b={1,4,3,2,2,5,6}\n",
    "a.difference(b)"
   ]
  },
  {
   "cell_type": "code",
   "execution_count": 116,
   "metadata": {},
   "outputs": [
    {
     "data": {
      "text/plain": [
       "{'suthan': 'variablz student',\n",
       " 'gopika': 'variablz student',\n",
       " 'amutha': 'variablz student'}"
      ]
     },
     "execution_count": 116,
     "metadata": {},
     "output_type": "execute_result"
    }
   ],
   "source": [
    "#dictionary\n",
    "#fromkeys\n",
    "key=('suthan','gopika','amutha')\n",
    "res=dict.fromkeys(key,'variablz student')\n",
    "res"
   ]
  },
  {
   "cell_type": "code",
   "execution_count": 6,
   "metadata": {},
   "outputs": [
    {
     "name": "stdout",
     "output_type": "stream",
     "text": [
      "counting: 1\n",
      "counting: 2\n",
      "counting: 3\n",
      "counting: 4\n",
      "counting: 5\n"
     ]
    }
   ],
   "source": [
    "#1.intitalize the count\n",
    "count=1\n",
    "#2.verify the condition\n",
    "while(count<=5): \n",
    "    \n",
    "    #3.do the work\n",
    "    print(f'counting: {count}')\n",
    "    \n",
    "    #4.increment to next loop\n",
    "    count+=1\n"
   ]
  },
  {
   "cell_type": "code",
   "execution_count": 26,
   "metadata": {},
   "outputs": [
    {
     "ename": "SyntaxError",
     "evalue": "invalid syntax (2782277199.py, line 19)",
     "output_type": "error",
     "traceback": [
      "\u001b[0;36m  Cell \u001b[0;32mIn[26], line 19\u001b[0;36m\u001b[0m\n\u001b[0;31m    whilecount<len(music_directors):\u001b[0m\n\u001b[0m                                   ^\u001b[0m\n\u001b[0;31mSyntaxError\u001b[0m\u001b[0;31m:\u001b[0m invalid syntax\n"
     ]
    }
   ],
   "source": [
    "#manual methods\n",
    "music_directors = ['Aniruth','Ilayaraja','Yuvan','Deva']\n",
    "music_directors\n",
    "updated_list = []\n",
    "\n",
    "updated_list.append(f'Mr.{music_directors[0]}')\n",
    "updated_list.append(f'Mr.{music_directors[1]}')\n",
    "updated_list.append(f'Mr.{music_directors[2]}')\n",
    "updated_list.append(f'Mr.{music_directors[3]}')\n",
    "\n",
    "updated_list\n",
    "\n",
    "#automated way\n",
    "music_director= ['Anirudh','Ilayaraja','Yuvan','Deva']\n",
    "music_directors\n",
    "\n",
    "updated_list = []\n",
    "count=0\n",
    "whilecount<len(music_directors):\n",
    "\n",
    "updated_list.append(f'Mr. {music_directors[count]}')\n",
    "\n",
    "count+=1\n",
    "\n",
    "updated_list\n",
    "\n",
    "\n"
   ]
  },
  {
   "cell_type": "code",
   "execution_count": 2,
   "metadata": {},
   "outputs": [],
   "source": [
    "#automated way\n",
    "music_director= ['Anirudh','Ilayaraja','Yuvan','Deva']\n",
    "music_director\n",
    "\n",
    "updated_list = []\n",
    "count = 0\n",
    "while count<len(music_director):\n",
    "\n",
    "    updated_list.append(f'Mr. {music_director[count]}')\n",
    "\n",
    "count +=1\n",
    "\n",
    "updated_list\n"
   ]
  },
  {
   "cell_type": "code",
   "execution_count": null,
   "metadata": {},
   "outputs": [],
   "source": []
  }
 ],
 "metadata": {
  "kernelspec": {
   "display_name": ".venv",
   "language": "python",
   "name": "python3"
  },
  "language_info": {
   "codemirror_mode": {
    "name": "ipython",
    "version": 3
   },
   "file_extension": ".py",
   "mimetype": "text/x-python",
   "name": "python",
   "nbconvert_exporter": "python",
   "pygments_lexer": "ipython3",
   "version": "3.10.12"
  }
 },
 "nbformat": 4,
 "nbformat_minor": 2
}
